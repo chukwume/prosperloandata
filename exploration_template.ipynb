{
 "cells": [
  {
   "cell_type": "markdown",
   "metadata": {},
   "source": [
    "# Prosper Loan Data Exploration\n",
    "## by Chukwume Ijeh\n",
    "\n",
    "## Preliminary Wrangling\n",
    "\n",
    "> This document explores a dataset originally containing 113,937 loan entries with 81 variables on each entry, including loan amount, borrower rate (or interest rate), current loan status, borrower income, and many others."
   ]
  },
  {
   "cell_type": "code",
   "execution_count": 1,
   "metadata": {},
   "outputs": [],
   "source": [
    "# import all packages and set plots to be embedded inline\n",
    "import numpy as np\n",
    "import pandas as pd\n",
    "import matplotlib.pyplot as plt\n",
    "import seaborn as sb\n",
    "\n",
    "%matplotlib inline"
   ]
  },
  {
   "cell_type": "markdown",
   "metadata": {},
   "source": [
    "> Load in your dataset and describe its properties through the questions below.\n",
    "Try and motivate your exploration goals through this section."
   ]
  },
  {
   "cell_type": "code",
   "execution_count": 2,
   "metadata": {},
   "outputs": [],
   "source": [
    "# load in the dataset into a pandas dataframe, print statistics\n",
    "df_loan = pd.read_csv('prosperLoanData.csv')"
   ]
  },
  {
   "cell_type": "code",
   "execution_count": 3,
   "metadata": {},
   "outputs": [
    {
     "data": {
      "text/plain": [
       "(113937, 81)"
      ]
     },
     "execution_count": 3,
     "metadata": {},
     "output_type": "execute_result"
    }
   ],
   "source": [
    "# high-level overview of data shape and composition\n",
    "df_loan.shape"
   ]
  },
  {
   "cell_type": "code",
   "execution_count": 4,
   "metadata": {},
   "outputs": [
    {
     "data": {
      "text/html": [
       "<div>\n",
       "<style scoped>\n",
       "    .dataframe tbody tr th:only-of-type {\n",
       "        vertical-align: middle;\n",
       "    }\n",
       "\n",
       "    .dataframe tbody tr th {\n",
       "        vertical-align: top;\n",
       "    }\n",
       "\n",
       "    .dataframe thead th {\n",
       "        text-align: right;\n",
       "    }\n",
       "</style>\n",
       "<table border=\"1\" class=\"dataframe\">\n",
       "  <thead>\n",
       "    <tr style=\"text-align: right;\">\n",
       "      <th></th>\n",
       "      <th>ListingKey</th>\n",
       "      <th>ListingNumber</th>\n",
       "      <th>ListingCreationDate</th>\n",
       "      <th>CreditGrade</th>\n",
       "      <th>Term</th>\n",
       "      <th>LoanStatus</th>\n",
       "      <th>ClosedDate</th>\n",
       "      <th>BorrowerAPR</th>\n",
       "      <th>BorrowerRate</th>\n",
       "      <th>LenderYield</th>\n",
       "      <th>...</th>\n",
       "      <th>LP_ServiceFees</th>\n",
       "      <th>LP_CollectionFees</th>\n",
       "      <th>LP_GrossPrincipalLoss</th>\n",
       "      <th>LP_NetPrincipalLoss</th>\n",
       "      <th>LP_NonPrincipalRecoverypayments</th>\n",
       "      <th>PercentFunded</th>\n",
       "      <th>Recommendations</th>\n",
       "      <th>InvestmentFromFriendsCount</th>\n",
       "      <th>InvestmentFromFriendsAmount</th>\n",
       "      <th>Investors</th>\n",
       "    </tr>\n",
       "  </thead>\n",
       "  <tbody>\n",
       "    <tr>\n",
       "      <th>0</th>\n",
       "      <td>1021339766868145413AB3B</td>\n",
       "      <td>193129</td>\n",
       "      <td>2007-08-26 19:09:29.263000000</td>\n",
       "      <td>C</td>\n",
       "      <td>36</td>\n",
       "      <td>Completed</td>\n",
       "      <td>2009-08-14 00:00:00</td>\n",
       "      <td>0.16516</td>\n",
       "      <td>0.1580</td>\n",
       "      <td>0.1380</td>\n",
       "      <td>...</td>\n",
       "      <td>-133.18</td>\n",
       "      <td>0.0</td>\n",
       "      <td>0.0</td>\n",
       "      <td>0.0</td>\n",
       "      <td>0.0</td>\n",
       "      <td>1.0</td>\n",
       "      <td>0</td>\n",
       "      <td>0</td>\n",
       "      <td>0.0</td>\n",
       "      <td>258</td>\n",
       "    </tr>\n",
       "    <tr>\n",
       "      <th>1</th>\n",
       "      <td>10273602499503308B223C1</td>\n",
       "      <td>1209647</td>\n",
       "      <td>2014-02-27 08:28:07.900000000</td>\n",
       "      <td>NaN</td>\n",
       "      <td>36</td>\n",
       "      <td>Current</td>\n",
       "      <td>NaN</td>\n",
       "      <td>0.12016</td>\n",
       "      <td>0.0920</td>\n",
       "      <td>0.0820</td>\n",
       "      <td>...</td>\n",
       "      <td>0.00</td>\n",
       "      <td>0.0</td>\n",
       "      <td>0.0</td>\n",
       "      <td>0.0</td>\n",
       "      <td>0.0</td>\n",
       "      <td>1.0</td>\n",
       "      <td>0</td>\n",
       "      <td>0</td>\n",
       "      <td>0.0</td>\n",
       "      <td>1</td>\n",
       "    </tr>\n",
       "    <tr>\n",
       "      <th>2</th>\n",
       "      <td>0EE9337825851032864889A</td>\n",
       "      <td>81716</td>\n",
       "      <td>2007-01-05 15:00:47.090000000</td>\n",
       "      <td>HR</td>\n",
       "      <td>36</td>\n",
       "      <td>Completed</td>\n",
       "      <td>2009-12-17 00:00:00</td>\n",
       "      <td>0.28269</td>\n",
       "      <td>0.2750</td>\n",
       "      <td>0.2400</td>\n",
       "      <td>...</td>\n",
       "      <td>-24.20</td>\n",
       "      <td>0.0</td>\n",
       "      <td>0.0</td>\n",
       "      <td>0.0</td>\n",
       "      <td>0.0</td>\n",
       "      <td>1.0</td>\n",
       "      <td>0</td>\n",
       "      <td>0</td>\n",
       "      <td>0.0</td>\n",
       "      <td>41</td>\n",
       "    </tr>\n",
       "    <tr>\n",
       "      <th>3</th>\n",
       "      <td>0EF5356002482715299901A</td>\n",
       "      <td>658116</td>\n",
       "      <td>2012-10-22 11:02:35.010000000</td>\n",
       "      <td>NaN</td>\n",
       "      <td>36</td>\n",
       "      <td>Current</td>\n",
       "      <td>NaN</td>\n",
       "      <td>0.12528</td>\n",
       "      <td>0.0974</td>\n",
       "      <td>0.0874</td>\n",
       "      <td>...</td>\n",
       "      <td>-108.01</td>\n",
       "      <td>0.0</td>\n",
       "      <td>0.0</td>\n",
       "      <td>0.0</td>\n",
       "      <td>0.0</td>\n",
       "      <td>1.0</td>\n",
       "      <td>0</td>\n",
       "      <td>0</td>\n",
       "      <td>0.0</td>\n",
       "      <td>158</td>\n",
       "    </tr>\n",
       "    <tr>\n",
       "      <th>4</th>\n",
       "      <td>0F023589499656230C5E3E2</td>\n",
       "      <td>909464</td>\n",
       "      <td>2013-09-14 18:38:39.097000000</td>\n",
       "      <td>NaN</td>\n",
       "      <td>36</td>\n",
       "      <td>Current</td>\n",
       "      <td>NaN</td>\n",
       "      <td>0.24614</td>\n",
       "      <td>0.2085</td>\n",
       "      <td>0.1985</td>\n",
       "      <td>...</td>\n",
       "      <td>-60.27</td>\n",
       "      <td>0.0</td>\n",
       "      <td>0.0</td>\n",
       "      <td>0.0</td>\n",
       "      <td>0.0</td>\n",
       "      <td>1.0</td>\n",
       "      <td>0</td>\n",
       "      <td>0</td>\n",
       "      <td>0.0</td>\n",
       "      <td>20</td>\n",
       "    </tr>\n",
       "  </tbody>\n",
       "</table>\n",
       "<p>5 rows × 81 columns</p>\n",
       "</div>"
      ],
      "text/plain": [
       "                ListingKey  ListingNumber            ListingCreationDate  \\\n",
       "0  1021339766868145413AB3B         193129  2007-08-26 19:09:29.263000000   \n",
       "1  10273602499503308B223C1        1209647  2014-02-27 08:28:07.900000000   \n",
       "2  0EE9337825851032864889A          81716  2007-01-05 15:00:47.090000000   \n",
       "3  0EF5356002482715299901A         658116  2012-10-22 11:02:35.010000000   \n",
       "4  0F023589499656230C5E3E2         909464  2013-09-14 18:38:39.097000000   \n",
       "\n",
       "  CreditGrade  Term LoanStatus           ClosedDate  BorrowerAPR  \\\n",
       "0           C    36  Completed  2009-08-14 00:00:00      0.16516   \n",
       "1         NaN    36    Current                  NaN      0.12016   \n",
       "2          HR    36  Completed  2009-12-17 00:00:00      0.28269   \n",
       "3         NaN    36    Current                  NaN      0.12528   \n",
       "4         NaN    36    Current                  NaN      0.24614   \n",
       "\n",
       "   BorrowerRate  LenderYield  ...  LP_ServiceFees  LP_CollectionFees  \\\n",
       "0        0.1580       0.1380  ...         -133.18                0.0   \n",
       "1        0.0920       0.0820  ...            0.00                0.0   \n",
       "2        0.2750       0.2400  ...          -24.20                0.0   \n",
       "3        0.0974       0.0874  ...         -108.01                0.0   \n",
       "4        0.2085       0.1985  ...          -60.27                0.0   \n",
       "\n",
       "   LP_GrossPrincipalLoss  LP_NetPrincipalLoss LP_NonPrincipalRecoverypayments  \\\n",
       "0                    0.0                  0.0                             0.0   \n",
       "1                    0.0                  0.0                             0.0   \n",
       "2                    0.0                  0.0                             0.0   \n",
       "3                    0.0                  0.0                             0.0   \n",
       "4                    0.0                  0.0                             0.0   \n",
       "\n",
       "   PercentFunded  Recommendations InvestmentFromFriendsCount  \\\n",
       "0            1.0                0                          0   \n",
       "1            1.0                0                          0   \n",
       "2            1.0                0                          0   \n",
       "3            1.0                0                          0   \n",
       "4            1.0                0                          0   \n",
       "\n",
       "  InvestmentFromFriendsAmount Investors  \n",
       "0                         0.0       258  \n",
       "1                         0.0         1  \n",
       "2                         0.0        41  \n",
       "3                         0.0       158  \n",
       "4                         0.0        20  \n",
       "\n",
       "[5 rows x 81 columns]"
      ]
     },
     "execution_count": 4,
     "metadata": {},
     "output_type": "execute_result"
    }
   ],
   "source": [
    "# high-level overview of data composition\n",
    "df_loan.head()"
   ]
  },
  {
   "cell_type": "code",
   "execution_count": 5,
   "metadata": {},
   "outputs": [],
   "source": [
    "# Subset the dataframe by selecting features of interest\n",
    "cols = ['ListingCreationDate','ProsperScore', 'IsBorrowerHomeowner', 'CreditScoreRangeLower', 'LoanOriginalAmount', 'BorrowerAPR', 'StatedMonthlyIncome', 'DebtToIncomeRatio', 'Term', 'ProsperRating (Alpha)', \n",
    "        'EmploymentStatus', 'CurrentDelinquencies']\n",
    "df_sub = df_loan[cols]"
   ]
  },
  {
   "cell_type": "code",
   "execution_count": 6,
   "metadata": {},
   "outputs": [
    {
     "data": {
      "text/plain": [
       "ListingCreationDate       object\n",
       "ProsperScore             float64\n",
       "IsBorrowerHomeowner         bool\n",
       "CreditScoreRangeLower    float64\n",
       "LoanOriginalAmount         int64\n",
       "BorrowerAPR              float64\n",
       "StatedMonthlyIncome      float64\n",
       "DebtToIncomeRatio        float64\n",
       "Term                       int64\n",
       "ProsperRating (Alpha)     object\n",
       "EmploymentStatus          object\n",
       "CurrentDelinquencies     float64\n",
       "dtype: object"
      ]
     },
     "execution_count": 6,
     "metadata": {},
     "output_type": "execute_result"
    }
   ],
   "source": [
    "df_sub.dtypes"
   ]
  },
  {
   "cell_type": "code",
   "execution_count": 7,
   "metadata": {},
   "outputs": [
    {
     "name": "stderr",
     "output_type": "stream",
     "text": [
      "C:\\Users\\HP\\anaconda3\\lib\\site-packages\\ipykernel_launcher.py:2: SettingWithCopyWarning: \n",
      "A value is trying to be set on a copy of a slice from a DataFrame.\n",
      "Try using .loc[row_indexer,col_indexer] = value instead\n",
      "\n",
      "See the caveats in the documentation: https://pandas.pydata.org/pandas-docs/stable/user_guide/indexing.html#returning-a-view-versus-a-copy\n",
      "  \n"
     ]
    }
   ],
   "source": [
    "# Convert listing creation date to datetime\n",
    "df_sub['ListingCreationDate'] = pd.to_datetime(df_sub['ListingCreationDate'])"
   ]
  },
  {
   "cell_type": "code",
   "execution_count": 8,
   "metadata": {},
   "outputs": [],
   "source": [
    "# Select loan entries that occurred after July, 2009\n",
    "df_sub = df_sub[df_sub['ListingCreationDate'] >= '2009-08-1']"
   ]
  },
  {
   "cell_type": "code",
   "execution_count": 9,
   "metadata": {},
   "outputs": [],
   "source": [
    "# Remove loans with missing borrower APR information\n",
    "df_sub = df_sub[~df_sub.BorrowerAPR.isna()]"
   ]
  },
  {
   "cell_type": "code",
   "execution_count": 10,
   "metadata": {},
   "outputs": [
    {
     "data": {
      "text/html": [
       "<div>\n",
       "<style scoped>\n",
       "    .dataframe tbody tr th:only-of-type {\n",
       "        vertical-align: middle;\n",
       "    }\n",
       "\n",
       "    .dataframe tbody tr th {\n",
       "        vertical-align: top;\n",
       "    }\n",
       "\n",
       "    .dataframe thead th {\n",
       "        text-align: right;\n",
       "    }\n",
       "</style>\n",
       "<table border=\"1\" class=\"dataframe\">\n",
       "  <thead>\n",
       "    <tr style=\"text-align: right;\">\n",
       "      <th></th>\n",
       "      <th>ListingCreationDate</th>\n",
       "      <th>ProsperScore</th>\n",
       "      <th>IsBorrowerHomeowner</th>\n",
       "      <th>CreditScoreRangeLower</th>\n",
       "      <th>LoanOriginalAmount</th>\n",
       "      <th>BorrowerAPR</th>\n",
       "      <th>StatedMonthlyIncome</th>\n",
       "      <th>DebtToIncomeRatio</th>\n",
       "      <th>Term</th>\n",
       "      <th>ProsperRating (Alpha)</th>\n",
       "      <th>EmploymentStatus</th>\n",
       "      <th>CurrentDelinquencies</th>\n",
       "    </tr>\n",
       "  </thead>\n",
       "  <tbody>\n",
       "    <tr>\n",
       "      <th>1</th>\n",
       "      <td>2014-02-27 08:28:07.900</td>\n",
       "      <td>7.0</td>\n",
       "      <td>False</td>\n",
       "      <td>680.0</td>\n",
       "      <td>10000</td>\n",
       "      <td>0.12016</td>\n",
       "      <td>6125.000000</td>\n",
       "      <td>0.18</td>\n",
       "      <td>36</td>\n",
       "      <td>A</td>\n",
       "      <td>Employed</td>\n",
       "      <td>0.0</td>\n",
       "    </tr>\n",
       "    <tr>\n",
       "      <th>3</th>\n",
       "      <td>2012-10-22 11:02:35.010</td>\n",
       "      <td>9.0</td>\n",
       "      <td>True</td>\n",
       "      <td>800.0</td>\n",
       "      <td>10000</td>\n",
       "      <td>0.12528</td>\n",
       "      <td>2875.000000</td>\n",
       "      <td>0.15</td>\n",
       "      <td>36</td>\n",
       "      <td>A</td>\n",
       "      <td>Employed</td>\n",
       "      <td>4.0</td>\n",
       "    </tr>\n",
       "    <tr>\n",
       "      <th>4</th>\n",
       "      <td>2013-09-14 18:38:39.097</td>\n",
       "      <td>4.0</td>\n",
       "      <td>True</td>\n",
       "      <td>680.0</td>\n",
       "      <td>15000</td>\n",
       "      <td>0.24614</td>\n",
       "      <td>9583.333333</td>\n",
       "      <td>0.26</td>\n",
       "      <td>36</td>\n",
       "      <td>D</td>\n",
       "      <td>Employed</td>\n",
       "      <td>0.0</td>\n",
       "    </tr>\n",
       "    <tr>\n",
       "      <th>5</th>\n",
       "      <td>2013-12-14 08:26:37.093</td>\n",
       "      <td>10.0</td>\n",
       "      <td>True</td>\n",
       "      <td>740.0</td>\n",
       "      <td>15000</td>\n",
       "      <td>0.15425</td>\n",
       "      <td>8333.333333</td>\n",
       "      <td>0.36</td>\n",
       "      <td>60</td>\n",
       "      <td>B</td>\n",
       "      <td>Employed</td>\n",
       "      <td>0.0</td>\n",
       "    </tr>\n",
       "    <tr>\n",
       "      <th>6</th>\n",
       "      <td>2013-04-12 09:52:56.147</td>\n",
       "      <td>2.0</td>\n",
       "      <td>False</td>\n",
       "      <td>680.0</td>\n",
       "      <td>3000</td>\n",
       "      <td>0.31032</td>\n",
       "      <td>2083.333333</td>\n",
       "      <td>0.27</td>\n",
       "      <td>36</td>\n",
       "      <td>E</td>\n",
       "      <td>Employed</td>\n",
       "      <td>0.0</td>\n",
       "    </tr>\n",
       "  </tbody>\n",
       "</table>\n",
       "</div>"
      ],
      "text/plain": [
       "      ListingCreationDate  ProsperScore  IsBorrowerHomeowner  \\\n",
       "1 2014-02-27 08:28:07.900           7.0                False   \n",
       "3 2012-10-22 11:02:35.010           9.0                 True   \n",
       "4 2013-09-14 18:38:39.097           4.0                 True   \n",
       "5 2013-12-14 08:26:37.093          10.0                 True   \n",
       "6 2013-04-12 09:52:56.147           2.0                False   \n",
       "\n",
       "   CreditScoreRangeLower  LoanOriginalAmount  BorrowerAPR  \\\n",
       "1                  680.0               10000      0.12016   \n",
       "3                  800.0               10000      0.12528   \n",
       "4                  680.0               15000      0.24614   \n",
       "5                  740.0               15000      0.15425   \n",
       "6                  680.0                3000      0.31032   \n",
       "\n",
       "   StatedMonthlyIncome  DebtToIncomeRatio  Term ProsperRating (Alpha)  \\\n",
       "1          6125.000000               0.18    36                     A   \n",
       "3          2875.000000               0.15    36                     A   \n",
       "4          9583.333333               0.26    36                     D   \n",
       "5          8333.333333               0.36    60                     B   \n",
       "6          2083.333333               0.27    36                     E   \n",
       "\n",
       "  EmploymentStatus  CurrentDelinquencies  \n",
       "1         Employed                   0.0  \n",
       "3         Employed                   4.0  \n",
       "4         Employed                   0.0  \n",
       "5         Employed                   0.0  \n",
       "6         Employed                   0.0  "
      ]
     },
     "execution_count": 10,
     "metadata": {},
     "output_type": "execute_result"
    }
   ],
   "source": [
    "df_sub.head()"
   ]
  },
  {
   "cell_type": "code",
   "execution_count": 11,
   "metadata": {
    "scrolled": true
   },
   "outputs": [
    {
     "data": {
      "text/html": [
       "<div>\n",
       "<style scoped>\n",
       "    .dataframe tbody tr th:only-of-type {\n",
       "        vertical-align: middle;\n",
       "    }\n",
       "\n",
       "    .dataframe tbody tr th {\n",
       "        vertical-align: top;\n",
       "    }\n",
       "\n",
       "    .dataframe thead th {\n",
       "        text-align: right;\n",
       "    }\n",
       "</style>\n",
       "<table border=\"1\" class=\"dataframe\">\n",
       "  <thead>\n",
       "    <tr style=\"text-align: right;\">\n",
       "      <th></th>\n",
       "      <th>ProsperScore</th>\n",
       "      <th>CreditScoreRangeLower</th>\n",
       "      <th>LoanOriginalAmount</th>\n",
       "      <th>BorrowerAPR</th>\n",
       "      <th>StatedMonthlyIncome</th>\n",
       "      <th>DebtToIncomeRatio</th>\n",
       "      <th>Term</th>\n",
       "      <th>CurrentDelinquencies</th>\n",
       "    </tr>\n",
       "  </thead>\n",
       "  <tbody>\n",
       "    <tr>\n",
       "      <th>count</th>\n",
       "      <td>84672.000000</td>\n",
       "      <td>84672.000000</td>\n",
       "      <td>84672.000000</td>\n",
       "      <td>84672.000000</td>\n",
       "      <td>8.467200e+04</td>\n",
       "      <td>77391.000000</td>\n",
       "      <td>84672.000000</td>\n",
       "      <td>84672.000000</td>\n",
       "    </tr>\n",
       "    <tr>\n",
       "      <th>mean</th>\n",
       "      <td>5.945165</td>\n",
       "      <td>699.375945</td>\n",
       "      <td>9094.024341</td>\n",
       "      <td>0.226738</td>\n",
       "      <td>5.933452e+03</td>\n",
       "      <td>0.258813</td>\n",
       "      <td>42.500000</td>\n",
       "      <td>0.322397</td>\n",
       "    </tr>\n",
       "    <tr>\n",
       "      <th>std</th>\n",
       "      <td>2.375376</td>\n",
       "      <td>47.070306</td>\n",
       "      <td>6288.611188</td>\n",
       "      <td>0.079889</td>\n",
       "      <td>8.247730e+03</td>\n",
       "      <td>0.318611</td>\n",
       "      <td>11.648913</td>\n",
       "      <td>1.110787</td>\n",
       "    </tr>\n",
       "    <tr>\n",
       "      <th>min</th>\n",
       "      <td>1.000000</td>\n",
       "      <td>600.000000</td>\n",
       "      <td>1000.000000</td>\n",
       "      <td>0.049350</td>\n",
       "      <td>0.000000e+00</td>\n",
       "      <td>0.000000</td>\n",
       "      <td>12.000000</td>\n",
       "      <td>0.000000</td>\n",
       "    </tr>\n",
       "    <tr>\n",
       "      <th>25%</th>\n",
       "      <td>4.000000</td>\n",
       "      <td>660.000000</td>\n",
       "      <td>4000.000000</td>\n",
       "      <td>0.163610</td>\n",
       "      <td>3.441667e+03</td>\n",
       "      <td>0.150000</td>\n",
       "      <td>36.000000</td>\n",
       "      <td>0.000000</td>\n",
       "    </tr>\n",
       "    <tr>\n",
       "      <th>50%</th>\n",
       "      <td>6.000000</td>\n",
       "      <td>700.000000</td>\n",
       "      <td>7500.000000</td>\n",
       "      <td>0.219450</td>\n",
       "      <td>5.000000e+03</td>\n",
       "      <td>0.220000</td>\n",
       "      <td>36.000000</td>\n",
       "      <td>0.000000</td>\n",
       "    </tr>\n",
       "    <tr>\n",
       "      <th>75%</th>\n",
       "      <td>8.000000</td>\n",
       "      <td>720.000000</td>\n",
       "      <td>13750.000000</td>\n",
       "      <td>0.292540</td>\n",
       "      <td>7.083333e+03</td>\n",
       "      <td>0.320000</td>\n",
       "      <td>60.000000</td>\n",
       "      <td>0.000000</td>\n",
       "    </tr>\n",
       "    <tr>\n",
       "      <th>max</th>\n",
       "      <td>11.000000</td>\n",
       "      <td>880.000000</td>\n",
       "      <td>35000.000000</td>\n",
       "      <td>0.423950</td>\n",
       "      <td>1.750003e+06</td>\n",
       "      <td>10.010000</td>\n",
       "      <td>60.000000</td>\n",
       "      <td>51.000000</td>\n",
       "    </tr>\n",
       "  </tbody>\n",
       "</table>\n",
       "</div>"
      ],
      "text/plain": [
       "       ProsperScore  CreditScoreRangeLower  LoanOriginalAmount   BorrowerAPR  \\\n",
       "count  84672.000000           84672.000000        84672.000000  84672.000000   \n",
       "mean       5.945165             699.375945         9094.024341      0.226738   \n",
       "std        2.375376              47.070306         6288.611188      0.079889   \n",
       "min        1.000000             600.000000         1000.000000      0.049350   \n",
       "25%        4.000000             660.000000         4000.000000      0.163610   \n",
       "50%        6.000000             700.000000         7500.000000      0.219450   \n",
       "75%        8.000000             720.000000        13750.000000      0.292540   \n",
       "max       11.000000             880.000000        35000.000000      0.423950   \n",
       "\n",
       "       StatedMonthlyIncome  DebtToIncomeRatio          Term  \\\n",
       "count         8.467200e+04       77391.000000  84672.000000   \n",
       "mean          5.933452e+03           0.258813     42.500000   \n",
       "std           8.247730e+03           0.318611     11.648913   \n",
       "min           0.000000e+00           0.000000     12.000000   \n",
       "25%           3.441667e+03           0.150000     36.000000   \n",
       "50%           5.000000e+03           0.220000     36.000000   \n",
       "75%           7.083333e+03           0.320000     60.000000   \n",
       "max           1.750003e+06          10.010000     60.000000   \n",
       "\n",
       "       CurrentDelinquencies  \n",
       "count          84672.000000  \n",
       "mean               0.322397  \n",
       "std                1.110787  \n",
       "min                0.000000  \n",
       "25%                0.000000  \n",
       "50%                0.000000  \n",
       "75%                0.000000  \n",
       "max               51.000000  "
      ]
     },
     "execution_count": 11,
     "metadata": {},
     "output_type": "execute_result"
    }
   ],
   "source": [
    "# descriptive statistics for numeric variables\n",
    "df_sub.describe()"
   ]
  },
  {
   "cell_type": "code",
   "execution_count": 12,
   "metadata": {},
   "outputs": [
    {
     "data": {
      "text/plain": [
       "(84672, 12)"
      ]
     },
     "execution_count": 12,
     "metadata": {},
     "output_type": "execute_result"
    }
   ],
   "source": [
    "df_sub.shape"
   ]
  },
  {
   "cell_type": "markdown",
   "metadata": {},
   "source": [
    "#### What is the structure of your dataset?\n",
    "\n",
    "> The new dataset contains 84,672 loan entries with 12 features (including LoanOriginalAmount, BorrowerAPR, StatedMonthlyIncome, Term, ProsperRating (Alpha), EmploymentStatus and many others).\n",
    "\n",
    "### What is/are the main feature(s) of interest in your dataset?\n",
    "\n",
    "> This project is most interested in figuring out what features are best for predicting the borrower's Annual Percentage Rate (APR) for the loan.\n",
    "\n",
    "### What features in the dataset do you think will help support your investigation into your feature(s) of interest?\n",
    "\n",
    "> I believe the following features: Borrowers stated monthly income, loan term, total loan amount, prosper rating, prosper score, employment status and others will help support investigation into borrower's APR."
   ]
  },
  {
   "cell_type": "markdown",
   "metadata": {},
   "source": [
    "## Univariate Exploration\n",
    "\n",
    "> Let's start by converting all column names to lower case and then look at the distribution of the main variable of interest: borrower APR."
   ]
  },
  {
   "cell_type": "code",
   "execution_count": 13,
   "metadata": {},
   "outputs": [],
   "source": [
    "df_sub.columns = map(str.lower, df_sub.columns)"
   ]
  },
  {
   "cell_type": "code",
   "execution_count": 14,
   "metadata": {},
   "outputs": [
    {
     "data": {
      "image/png": "[encoded data removed]",
      "text/plain": [
       "<Figure size 576x360 with 1 Axes>"
      ]
     },
     "metadata": {
      "needs_background": "light"
     },
     "output_type": "display_data"
    }
   ],
   "source": [
    "bins = np.arange(0, df_sub.borrowerapr.max()+0.01, 0.01)\n",
    "plt.figure(figsize=[8, 5])\n",
    "plt.hist(data = df_sub, x = 'borrowerapr', bins = bins)\n",
    "ticks = [0.0, 0.05, 0.1, 0.15, 0.2, 0.25, 0.3, 0.35, 0.4]\n",
    "plt.xticks(ticks, ticks)\n",
    "plt.xlabel('Borrower APR')\n",
    "plt.ylabel('Count');"
   ]
  },
  {
   "cell_type": "markdown",
   "metadata": {},
   "source": [
    "> There is also a very distinct peak between 0.35 and 0.36. "
   ]
  },
  {
   "cell_type": "code",
   "execution_count": 15,
   "metadata": {},
   "outputs": [
    {
     "data": {
      "text/html": [
       "<div>\n",
       "<style scoped>\n",
       "    .dataframe tbody tr th:only-of-type {\n",
       "        vertical-align: middle;\n",
       "    }\n",
       "\n",
       "    .dataframe tbody tr th {\n",
       "        vertical-align: top;\n",
       "    }\n",
       "\n",
       "    .dataframe thead th {\n",
       "        text-align: right;\n",
       "    }\n",
       "</style>\n",
       "<table border=\"1\" class=\"dataframe\">\n",
       "  <thead>\n",
       "    <tr style=\"text-align: right;\">\n",
       "      <th></th>\n",
       "      <th>listingcreationdate</th>\n",
       "      <th>prosperscore</th>\n",
       "      <th>isborrowerhomeowner</th>\n",
       "      <th>creditscorerangelower</th>\n",
       "      <th>loanoriginalamount</th>\n",
       "      <th>borrowerapr</th>\n",
       "      <th>statedmonthlyincome</th>\n",
       "      <th>debttoincomeratio</th>\n",
       "      <th>term</th>\n",
       "      <th>prosperrating (alpha)</th>\n",
       "      <th>employmentstatus</th>\n",
       "      <th>currentdelinquencies</th>\n",
       "    </tr>\n",
       "  </thead>\n",
       "  <tbody>\n",
       "    <tr>\n",
       "      <th>15</th>\n",
       "      <td>2012-04-10 09:14:46.297</td>\n",
       "      <td>5.0</td>\n",
       "      <td>True</td>\n",
       "      <td>700.0</td>\n",
       "      <td>4000</td>\n",
       "      <td>0.35797</td>\n",
       "      <td>5500.000000</td>\n",
       "      <td>0.49</td>\n",
       "      <td>36</td>\n",
       "      <td>HR</td>\n",
       "      <td>Other</td>\n",
       "      <td>0.0</td>\n",
       "    </tr>\n",
       "    <tr>\n",
       "      <th>22</th>\n",
       "      <td>2013-01-30 09:36:13.783</td>\n",
       "      <td>2.0</td>\n",
       "      <td>False</td>\n",
       "      <td>700.0</td>\n",
       "      <td>4000</td>\n",
       "      <td>0.35356</td>\n",
       "      <td>118.333333</td>\n",
       "      <td>9.20</td>\n",
       "      <td>36</td>\n",
       "      <td>HR</td>\n",
       "      <td>Other</td>\n",
       "      <td>0.0</td>\n",
       "    </tr>\n",
       "    <tr>\n",
       "      <th>31</th>\n",
       "      <td>2012-09-21 13:37:43.210</td>\n",
       "      <td>5.0</td>\n",
       "      <td>False</td>\n",
       "      <td>680.0</td>\n",
       "      <td>2000</td>\n",
       "      <td>0.35797</td>\n",
       "      <td>2250.000000</td>\n",
       "      <td>0.04</td>\n",
       "      <td>36</td>\n",
       "      <td>HR</td>\n",
       "      <td>Other</td>\n",
       "      <td>0.0</td>\n",
       "    </tr>\n",
       "    <tr>\n",
       "      <th>67</th>\n",
       "      <td>2011-03-25 17:20:01.857</td>\n",
       "      <td>3.0</td>\n",
       "      <td>False</td>\n",
       "      <td>600.0</td>\n",
       "      <td>3000</td>\n",
       "      <td>0.35843</td>\n",
       "      <td>4777.000000</td>\n",
       "      <td>0.28</td>\n",
       "      <td>12</td>\n",
       "      <td>E</td>\n",
       "      <td>Employed</td>\n",
       "      <td>0.0</td>\n",
       "    </tr>\n",
       "    <tr>\n",
       "      <th>71</th>\n",
       "      <td>2012-10-23 13:43:45.530</td>\n",
       "      <td>4.0</td>\n",
       "      <td>True</td>\n",
       "      <td>760.0</td>\n",
       "      <td>2774</td>\n",
       "      <td>0.35797</td>\n",
       "      <td>2916.666667</td>\n",
       "      <td>0.53</td>\n",
       "      <td>36</td>\n",
       "      <td>HR</td>\n",
       "      <td>Employed</td>\n",
       "      <td>0.0</td>\n",
       "    </tr>\n",
       "    <tr>\n",
       "      <th>...</th>\n",
       "      <td>...</td>\n",
       "      <td>...</td>\n",
       "      <td>...</td>\n",
       "      <td>...</td>\n",
       "      <td>...</td>\n",
       "      <td>...</td>\n",
       "      <td>...</td>\n",
       "      <td>...</td>\n",
       "      <td>...</td>\n",
       "      <td>...</td>\n",
       "      <td>...</td>\n",
       "      <td>...</td>\n",
       "    </tr>\n",
       "    <tr>\n",
       "      <th>113875</th>\n",
       "      <td>2011-11-16 09:19:53.293</td>\n",
       "      <td>4.0</td>\n",
       "      <td>True</td>\n",
       "      <td>720.0</td>\n",
       "      <td>5000</td>\n",
       "      <td>0.35132</td>\n",
       "      <td>4702.166667</td>\n",
       "      <td>0.19</td>\n",
       "      <td>36</td>\n",
       "      <td>E</td>\n",
       "      <td>Employed</td>\n",
       "      <td>6.0</td>\n",
       "    </tr>\n",
       "    <tr>\n",
       "      <th>113905</th>\n",
       "      <td>2011-11-15 15:32:05.890</td>\n",
       "      <td>2.0</td>\n",
       "      <td>True</td>\n",
       "      <td>740.0</td>\n",
       "      <td>4000</td>\n",
       "      <td>0.35797</td>\n",
       "      <td>3250.000000</td>\n",
       "      <td>0.35</td>\n",
       "      <td>36</td>\n",
       "      <td>HR</td>\n",
       "      <td>Employed</td>\n",
       "      <td>0.0</td>\n",
       "    </tr>\n",
       "    <tr>\n",
       "      <th>113907</th>\n",
       "      <td>2013-11-09 06:55:05.690</td>\n",
       "      <td>2.0</td>\n",
       "      <td>False</td>\n",
       "      <td>640.0</td>\n",
       "      <td>4000</td>\n",
       "      <td>0.35356</td>\n",
       "      <td>2166.666667</td>\n",
       "      <td>0.40</td>\n",
       "      <td>36</td>\n",
       "      <td>HR</td>\n",
       "      <td>Employed</td>\n",
       "      <td>1.0</td>\n",
       "    </tr>\n",
       "    <tr>\n",
       "      <th>113908</th>\n",
       "      <td>2010-11-29 10:40:09.730</td>\n",
       "      <td>5.0</td>\n",
       "      <td>False</td>\n",
       "      <td>700.0</td>\n",
       "      <td>7500</td>\n",
       "      <td>0.35858</td>\n",
       "      <td>2833.333333</td>\n",
       "      <td>NaN</td>\n",
       "      <td>36</td>\n",
       "      <td>E</td>\n",
       "      <td>Employed</td>\n",
       "      <td>0.0</td>\n",
       "    </tr>\n",
       "    <tr>\n",
       "      <th>113920</th>\n",
       "      <td>2013-06-11 05:49:40.247</td>\n",
       "      <td>2.0</td>\n",
       "      <td>True</td>\n",
       "      <td>740.0</td>\n",
       "      <td>4000</td>\n",
       "      <td>0.35356</td>\n",
       "      <td>5208.333333</td>\n",
       "      <td>0.25</td>\n",
       "      <td>36</td>\n",
       "      <td>HR</td>\n",
       "      <td>Employed</td>\n",
       "      <td>1.0</td>\n",
       "    </tr>\n",
       "  </tbody>\n",
       "</table>\n",
       "<p>7487 rows × 12 columns</p>\n",
       "</div>"
      ],
      "text/plain": [
       "           listingcreationdate  prosperscore  isborrowerhomeowner  \\\n",
       "15     2012-04-10 09:14:46.297           5.0                 True   \n",
       "22     2013-01-30 09:36:13.783           2.0                False   \n",
       "31     2012-09-21 13:37:43.210           5.0                False   \n",
       "67     2011-03-25 17:20:01.857           3.0                False   \n",
       "71     2012-10-23 13:43:45.530           4.0                 True   \n",
       "...                        ...           ...                  ...   \n",
       "113875 2011-11-16 09:19:53.293           4.0                 True   \n",
       "113905 2011-11-15 15:32:05.890           2.0                 True   \n",
       "113907 2013-11-09 06:55:05.690           2.0                False   \n",
       "113908 2010-11-29 10:40:09.730           5.0                False   \n",
       "113920 2013-06-11 05:49:40.247           2.0                 True   \n",
       "\n",
       "        creditscorerangelower  loanoriginalamount  borrowerapr  \\\n",
       "15                      700.0                4000      0.35797   \n",
       "22                      700.0                4000      0.35356   \n",
       "31                      680.0                2000      0.35797   \n",
       "67                      600.0                3000      0.35843   \n",
       "71                      760.0                2774      0.35797   \n",
       "...                       ...                 ...          ...   \n",
       "113875                  720.0                5000      0.35132   \n",
       "113905                  740.0                4000      0.35797   \n",
       "113907                  640.0                4000      0.35356   \n",
       "113908                  700.0                7500      0.35858   \n",
       "113920                  740.0                4000      0.35356   \n",
       "\n",
       "        statedmonthlyincome  debttoincomeratio  term prosperrating (alpha)  \\\n",
       "15              5500.000000               0.49    36                    HR   \n",
       "22               118.333333               9.20    36                    HR   \n",
       "31              2250.000000               0.04    36                    HR   \n",
       "67              4777.000000               0.28    12                     E   \n",
       "71              2916.666667               0.53    36                    HR   \n",
       "...                     ...                ...   ...                   ...   \n",
       "113875          4702.166667               0.19    36                     E   \n",
       "113905          3250.000000               0.35    36                    HR   \n",
       "113907          2166.666667               0.40    36                    HR   \n",
       "113908          2833.333333                NaN    36                     E   \n",
       "113920          5208.333333               0.25    36                    HR   \n",
       "\n",
       "       employmentstatus  currentdelinquencies  \n",
       "15                Other                   0.0  \n",
       "22                Other                   0.0  \n",
       "31                Other                   0.0  \n",
       "67             Employed                   0.0  \n",
       "71             Employed                   0.0  \n",
       "...                 ...                   ...  \n",
       "113875         Employed                   6.0  \n",
       "113905         Employed                   0.0  \n",
       "113907         Employed                   1.0  \n",
       "113908         Employed                   0.0  \n",
       "113920         Employed                   1.0  \n",
       "\n",
       "[7487 rows x 12 columns]"
      ]
     },
     "execution_count": 15,
     "metadata": {},
     "output_type": "execute_result"
    }
   ],
   "source": [
    "# Check loans with APR between 0.35 and 0.36\n",
    "df_sub[(df_sub['borrowerapr'] >= 0.35) & (df_sub['borrowerapr'] <= 0.36)]"
   ]
  },
  {
   "cell_type": "markdown",
   "metadata": {},
   "source": [
    "> From the above table, there appears to be a total of 7000 loan entries that fall within this range with varying features."
   ]
  },
  {
   "cell_type": "markdown",
   "metadata": {},
   "source": [
    "> Next up, look at the distribution of a predictor variable of interest: loan original amount"
   ]
  },
  {
   "cell_type": "code",
   "execution_count": 16,
   "metadata": {},
   "outputs": [
    {
     "data": {
      "image/png": "[encoded data removed]",
      "text/plain": [
       "<Figure size 576x360 with 1 Axes>"
      ]
     },
     "metadata": {
      "needs_background": "light"
     },
     "output_type": "display_data"
    }
   ],
   "source": [
    "MIN = df_sub['loanoriginalamount'].min()\n",
    "MAX = df_sub['loanoriginalamount'].max()\n",
    "\n",
    "bins = 10 ** np.linspace(np.log10(MIN), np.log10(MAX), 30)\n",
    "plt.figure(figsize=[8, 5])\n",
    "plt.hist(data = df_sub, x = 'loanoriginalamount', bins=bins)\n",
    "plt.xscale('log')\n",
    "ticks = [1000, 2000, 3500, 5000, 10000, 15000, 20000, 35000]\n",
    "plt.xticks(ticks, ticks)\n",
    "plt.xlabel('Original loan amount ($)')\n",
    "plt.ylabel('Count')\n",
    "plt.title('Distribution of Original loan amount ($)');"
   ]
  },
  {
   "cell_type": "markdown",
   "metadata": {},
   "source": [
    "> The distribution of original loan amount looks multimodal. The most frequent loans fall somewhat between the ranges of \\\\$1900 - \\\\$2000, \\\\$3500 - \\\\$5000, \\\\$9000 - \\\\$10000, \\\\$15000 - \\\\$16000."
   ]
  },
  {
   "cell_type": "markdown",
   "metadata": {},
   "source": [
    "> Next up: stated monthly income"
   ]
  },
  {
   "cell_type": "code",
   "execution_count": 27,
   "metadata": {},
   "outputs": [
    {
     "data": {
      "image/png": "[encoded data removed]",
      "text/plain": [
       "<Figure size 720x432 with 1 Axes>"
      ]
     },
     "metadata": {
      "needs_background": "light"
     },
     "output_type": "display_data"
    }
   ],
   "source": [
    "# Distribution of stated monthly income\n",
    "# A value is added to MIN due to error caused by dividing by 0\n",
    "MIN = df_sub['statedmonthlyincome'].min() + 0.1\n",
    "MAX = df_sub['statedmonthlyincome'].max()\n",
    "\n",
    "plt.figure(figsize=(10,6))\n",
    "bins = 10 ** np.linspace(np.log10(MIN), np.log10(MAX), 50)\n",
    "plt.hist(data = df_sub, x = 'statedmonthlyincome', bins=bins)\n",
    "plt.xscale('log')\n",
    "plt.yscale('log')\n",
    "xticks= [0.1, 1, 10, 100, 1000, 10000, 100000, 1000000]\n",
    "yticks = [1, 10, 100, 1000, 10000, 20000]\n",
    "plt.xticks(xticks, xticks, rotation=15)\n",
    "plt.yticks(yticks, yticks)\n",
    "plt.title('Distribution of Borrowers Monthly Income')\n",
    "plt.xlabel('Monthly income ($)')\n",
    "plt.ylabel('Count');"
   ]
  },
  {
   "cell_type": "markdown",
   "metadata": {},
   "source": [
    "> Before applying the log transformation to the x axis, the distribution was severely right skewed. Now, majority of borrowers appear to earn around \\\\$10,000.\n",
    "\n",
    "> There appears to be a wide disparity in the stated monthly income of loan entries. While some are earning \\\\$0, others are earning over \\\\$1,000,000 every month. \n",
    "\n",
    "> Does the stated monthly income greatly impact the borrower's APR?"
   ]
  },
  {
   "cell_type": "code",
   "execution_count": 18,
   "metadata": {},
   "outputs": [
    {
     "name": "stdout",
     "output_type": "stream",
     "text": [
      "0.0    9\n",
      "1.0    1\n",
      "2.0    1\n",
      "5.0    1\n",
      "Name: currentdelinquencies, dtype: int64\n"
     ]
    },
    {
     "data": {
      "text/plain": [
       "0.35643    3\n",
       "0.35797    1\n",
       "0.33973    1\n",
       "0.31012    1\n",
       "0.20593    1\n",
       "0.07389    1\n",
       "0.25785    1\n",
       "0.24246    1\n",
       "0.22712    1\n",
       "0.20217    1\n",
       "Name: borrowerapr, dtype: int64"
      ]
     },
     "execution_count": 18,
     "metadata": {},
     "output_type": "execute_result"
    }
   ],
   "source": [
    "# Check some features of borrowers with stated monthly income greater than $100,000\n",
    "print(df_sub[df_sub.statedmonthlyincome>1e5].currentdelinquencies.value_counts())\n",
    "df_sub[df_sub.statedmonthlyincome>1e5].borrowerapr.value_counts()"
   ]
  },
  {
   "cell_type": "markdown",
   "metadata": {},
   "source": [
    "> Majority of borrowers in this range appear to have no current delinquencies. \n",
    "> However, their borrower's APR seems considerably high taking into account that the maximum APR is about 0.4."
   ]
  },
  {
   "cell_type": "markdown",
   "metadata": {},
   "source": [
    "> Look at distributions of term, Prosper rating, prosper score and employment status"
   ]
  },
  {
   "cell_type": "code",
   "execution_count": 19,
   "metadata": {},
   "outputs": [],
   "source": [
    "# Convert Prosper Rating, Prosper Score and Employment status into ordered categorical types\n",
    "ordinal_var_dict = {'prosperrating (alpha)': ['HR','E','D','C','B','A','AA'],\n",
    "                    'prosperscore': [1.0, 2.0, 3.0, 4.0, 5.0, 6.0, 7.0],\n",
    "                    'employmentstatus': ['Employed','Self-employed','Not employed','Full-time','Part-time','Retired','Other','Not available']}\n",
    "\n",
    "for var in ordinal_var_dict:\n",
    "    ordered_var = pd.api.types.CategoricalDtype(ordered = True,\n",
    "                                                categories = ordinal_var_dict[var])\n",
    "    df_sub[var] = df_sub[var].astype(ordered_var)"
   ]
  },
  {
   "cell_type": "code",
   "execution_count": 21,
   "metadata": {},
   "outputs": [
    {
     "data": {
      "image/png": "[encoded data removed]",
      "text/plain": [
       "<Figure size 720x1440 with 4 Axes>"
      ]
     },
     "metadata": {
      "needs_background": "light"
     },
     "output_type": "display_data"
    }
   ],
   "source": [
    "fig, ax = plt.subplots(nrows=4, figsize = [10,20])\n",
    "\n",
    "base_color = sb.color_palette()[0]\n",
    "\n",
    "sb.countplot(data = df_sub, x = 'term', color = base_color, ax = ax[0])\n",
    "sb.countplot(data = df_sub, x = 'prosperrating (alpha)', color = base_color, ax = ax[1])\n",
    "sb.countplot(data = df_sub, x = 'prosperscore', color = base_color, ax = ax[2])\n",
    "sb.countplot(data = df_sub, x = 'employmentstatus', color = base_color, ax = ax[3]);\n",
    "plt.xticks(rotation=30);"
   ]
  },
  {
   "cell_type": "markdown",
   "metadata": {},
   "source": [
    "> Majority of the loans are for 36months while very few are for 12months. This could be attributed to the loan amount (and other factors).\n",
    "\n",
    "> The distribution of prosper rating seems quite normally distributed with majority of borrowers having a C rating.\n",
    "\n",
    "> The distribution of prosper score seems quite left-skewed with majority of borrowers having high prosper scores.\n",
    "\n",
    "> Majority of borrowers appear to be employed. "
   ]
  },
  {
   "cell_type": "code",
   "execution_count": null,
   "metadata": {},
   "outputs": [],
   "source": []
  },
  {
   "cell_type": "markdown",
   "metadata": {},
   "source": [
    "> Make sure that, after every plot or related series of plots, that you\n",
    "include a Markdown cell with comments about what you observed, and what\n",
    "you plan on investigating next."
   ]
  },
  {
   "cell_type": "code",
   "execution_count": null,
   "metadata": {},
   "outputs": [],
   "source": []
  },
  {
   "cell_type": "markdown",
   "metadata": {},
   "source": [
    "### Discuss the distribution(s) of your variable(s) of interest. Were there any unusual points? Did you need to perform any transformations?\n",
    "\n",
    "> Your answer here!\n",
    "\n",
    "### Of the features you investigated, were there any unusual distributions? Did you perform any operations on the data to tidy, adjust, or change the form of the data? If so, why did you do this?\n",
    "\n",
    "> Your answer here!"
   ]
  },
  {
   "cell_type": "markdown",
   "metadata": {},
   "source": [
    "## Bivariate Exploration\n",
    "\n",
    "> In this section, investigate relationships between pairs of variables in your\n",
    "data. Make sure the variables that you cover here have been introduced in some\n",
    "fashion in the previous section (univariate exploration)."
   ]
  },
  {
   "cell_type": "code",
   "execution_count": null,
   "metadata": {},
   "outputs": [],
   "source": []
  },
  {
   "cell_type": "markdown",
   "metadata": {},
   "source": [
    "### Talk about some of the relationships you observed in this part of the investigation. How did the feature(s) of interest vary with other features in the dataset?\n",
    "\n",
    "> Your answer here!\n",
    "\n",
    "### Did you observe any interesting relationships between the other features (not the main feature(s) of interest)?\n",
    "\n",
    "> Your answer here!"
   ]
  },
  {
   "cell_type": "markdown",
   "metadata": {},
   "source": [
    "## Multivariate Exploration\n",
    "\n",
    "> Create plots of three or more variables to investigate your data even\n",
    "further. Make sure that your investigations are justified, and follow from\n",
    "your work in the previous sections."
   ]
  },
  {
   "cell_type": "code",
   "execution_count": null,
   "metadata": {},
   "outputs": [],
   "source": []
  },
  {
   "cell_type": "markdown",
   "metadata": {},
   "source": [
    "### Talk about some of the relationships you observed in this part of the investigation. Were there features that strengthened each other in terms of looking at your feature(s) of interest?\n",
    "\n",
    "> Your answer here!\n",
    "\n",
    "### Were there any interesting or surprising interactions between features?\n",
    "\n",
    "> Your answer here!"
   ]
  },
  {
   "cell_type": "markdown",
   "metadata": {},
   "source": [
    "> At the end of your report, make sure that you export the notebook as an\n",
    "html file from the `File > Download as... > HTML` menu. Make sure you keep\n",
    "track of where the exported file goes, so you can put it in the same folder\n",
    "as this notebook for project submission. Also, make sure you remove all of\n",
    "the quote-formatted guide notes like this one before you finish your report!"
   ]
  },
  {
   "cell_type": "code",
   "execution_count": null,
   "metadata": {},
   "outputs": [],
   "source": []
  }
 ],
 "metadata": {
  "kernelspec": {
   "display_name": "Python 3",
   "language": "python",
   "name": "python3"
  },
  "language_info": {
   "codemirror_mode": {
    "name": "ipython",
    "version": 3
   },
   "file_extension": ".py",
   "mimetype": "text/x-python",
   "name": "python",
   "nbconvert_exporter": "python",
   "pygments_lexer": "ipython3",
   "version": "3.7.7"
  }
 },
 "nbformat": 4,
 "nbformat_minor": 2
}
